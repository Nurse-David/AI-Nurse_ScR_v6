{
 "cells": [
  {
   "cell_type": "markdown",
   "metadata": {},
   "source": [
    "# paperqa2 Walkthrough\n",
    "\n",
    "This notebook demonstrates running the pipeline on a sample PDF."
   ]
  },
  {
   "cell_type": "code",
   "metadata": {},
   "execution_count": null,
   "source": [
    "# Run this cell on Google Colab to mount Drive and set up directories\n",
    "import colab_setup\n",
    "project_root, pdf_dir = colab_setup.setup()\n"
   ]
  },
  {
   "cell_type": "code",
   "metadata": {},
   "execution_count": null,
   "source": [
    "from paperqa2.pipeline import run_pipeline\n",
    "\n",
    "result = run_pipeline('sample.pdf')\n",
    "result"
   ]
  }
 ],
 "metadata": {
  "kernelspec": {
   "display_name": "Python 3",
   "language": "python",
   "name": "python3"
  }
 },
 "nbformat": 4,
 "nbformat_minor": 2
}
